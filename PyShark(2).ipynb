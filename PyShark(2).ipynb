{
  "nbformat": 4,
  "nbformat_minor": 0,
  "metadata": {
    "colab": {
      "provenance": []
    },
    "kernelspec": {
      "name": "python3",
      "display_name": "Python 3"
    },
    "language_info": {
      "name": "python"
    }
  },
  "cells": [
    {
      "cell_type": "code",
      "execution_count": null,
      "metadata": {
        "colab": {
          "base_uri": "https://localhost:8080/"
        },
        "id": "fOT6QmRBFY11",
        "outputId": "ba201ca8-1156-4ac1-903f-477d002e868a"
      },
      "outputs": [
        {
          "output_type": "stream",
          "name": "stdout",
          "text": [
            "Looking in indexes: https://pypi.org/simple, https://us-python.pkg.dev/colab-wheels/public/simple/\n",
            "Requirement already satisfied: pyspark in /usr/local/lib/python3.9/dist-packages (3.3.2)\n",
            "Requirement already satisfied: py4j==0.10.9.5 in /usr/local/lib/python3.9/dist-packages (from pyspark) (0.10.9.5)\n"
          ]
        }
      ],
      "source": [
        "pip install pyspark"
      ]
    },
    {
      "cell_type": "code",
      "source": [
        "import pyspark\n",
        "from pyspark import SparkContext, SparkConf"
      ],
      "metadata": {
        "id": "63POOQJqGu0I"
      },
      "execution_count": null,
      "outputs": []
    },
    {
      "cell_type": "code",
      "source": [
        "conf = SparkConf().setAppName('appName').setMaster('local[*]')\n",
        "sc=SparkContext(conf=conf)"
      ],
      "metadata": {
        "id": "mk2gPth9G-Io"
      },
      "execution_count": null,
      "outputs": []
    },
    {
      "cell_type": "code",
      "source": [
        "#Q1\n",
        "ml=[(1,2),(3,4),(3,6),(4,5)]\n",
        "rdd=sc.parallelize(ml)\n",
        "pair_rdd=rdd.reduceByKey(lambda x,y:x+y)\n",
        "pair_rdd.collect()"
      ],
      "metadata": {
        "colab": {
          "base_uri": "https://localhost:8080/"
        },
        "id": "disEkWyZGgRP",
        "outputId": "372da19d-e74f-45b5-8d06-93f87991b9b4"
      },
      "execution_count": null,
      "outputs": [
        {
          "output_type": "execute_result",
          "data": {
            "text/plain": [
              "[(4, 5), (1, 2), (3, 10)]"
            ]
          },
          "metadata": {},
          "execution_count": 5
        }
      ]
    },
    {
      "cell_type": "code",
      "source": [
        "#Q2\n",
        "input=sc.textFile(\"inputFile.txt\")\n",
        "rdd=input.flatMap(lambda x:x.split(\" \"))\n",
        "rdd2=rdd.map(lambda x:(x,1))\n",
        "rdd3=rdd2.reduceByKey(lambda x,y:x+y)\n",
        "rdd3.collect()"
      ],
      "metadata": {
        "colab": {
          "base_uri": "https://localhost:8080/"
        },
        "id": "VKgktJDdL5bD",
        "outputId": "318d3950-ccdd-4e96-f260-032349cfd6d5"
      },
      "execution_count": null,
      "outputs": [
        {
          "output_type": "execute_result",
          "data": {
            "text/plain": [
              "[('are', 2),\n",
              " ('as', 8),\n",
              " ('', 3),\n",
              " ('walk', 1),\n",
              " ('only', 1),\n",
              " ('share.', 1),\n",
              " ('people', 1),\n",
              " ('not', 1),\n",
              " ('beautiful', 2),\n",
              " ('they', 7),\n",
              " ('look,', 1),\n",
              " ('or', 1),\n",
              " ('talk.', 1),\n",
              " ('love,', 1),\n",
              " ('care', 1)]"
            ]
          },
          "metadata": {},
          "execution_count": 6
        }
      ]
    },
    {
      "cell_type": "code",
      "source": [
        "#Q3\n",
        "ml1=[(1,2),(3,4),(3,6),(4,5)]\n",
        "rdd=sc.parallelize(ml1)\n",
        "rdd1 = rdd.map(lambda x: (x[0],1))\n",
        "rdd2 = rdd1.reduceByKey(lambda x,y : x + y)\n",
        "rdd2.collect()"
      ],
      "metadata": {
        "colab": {
          "base_uri": "https://localhost:8080/"
        },
        "id": "z-RUi8z7QCb5",
        "outputId": "56c73bba-15b9-475e-ae80-df8c19c50361"
      },
      "execution_count": null,
      "outputs": [
        {
          "output_type": "execute_result",
          "data": {
            "text/plain": [
              "[(4, 1), (1, 1), (3, 2)]"
            ]
          },
          "metadata": {},
          "execution_count": 7
        }
      ]
    },
    {
      "cell_type": "code",
      "source": [
        "#Q4\n",
        "input=sc.textFile(\"shakespeare.txt\")\n",
        "rdd=input.flatMap(lambda x:x.split(\" \"))\n",
        "rdd2=rdd.map(lambda x:(x,1))\n",
        "rdd3=rdd2.reduceByKey(lambda x,y:x+y)\n",
        "rdd4=rdd3.map(lambda x: (x[1], x[0]))\n",
        "rdd5=rdd4.sortByKey(ascending=False)\n",
        "rdd5.take(10)"
      ],
      "metadata": {
        "colab": {
          "base_uri": "https://localhost:8080/"
        },
        "id": "tZl5TvSFWpZh",
        "outputId": "34f6cba5-459e-4a58-aadc-1f1fb05fd1cd"
      },
      "execution_count": null,
      "outputs": [
        {
          "output_type": "execute_result",
          "data": {
            "text/plain": [
              "[(168611, ''),\n",
              " (25561, 'the'),\n",
              " (20693, 'I'),\n",
              " (19843, 'and'),\n",
              " (17039, 'to'),\n",
              " (16992, 'of'),\n",
              " (13683, 'a'),\n",
              " (11404, 'my'),\n",
              " (10820, 'in'),\n",
              " (9574, 'you')]"
            ]
          },
          "metadata": {},
          "execution_count": 9
        }
      ]
    }
  ]
}